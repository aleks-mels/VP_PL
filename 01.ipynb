{
 "cells": [
  {
   "cell_type": "code",
   "execution_count": 23,
   "id": "98700cfd",
   "metadata": {},
   "outputs": [],
   "source": [
    "# Импорт необходимых библиотек\n",
    "import string\n",
    "import pandas as pd\n",
    "import os\n",
    "import nltk\n",
    "from nltk import word_tokenize\n",
    "from nltk.probability import FreqDist\n",
    "import spacy"
   ]
  },
  {
   "cell_type": "code",
   "execution_count": 24,
   "id": "15bf42f8",
   "metadata": {},
   "outputs": [],
   "source": [
    "# Чтение файла с речью политика\n",
    "file_path = 'Speech/2023_путин.txt'\n",
    "with open(file_path, 'r', encoding='utf-8') as f:\n",
    "    text = f.read()"
   ]
  },
  {
   "cell_type": "code",
   "execution_count": 25,
   "id": "641dcbe3",
   "metadata": {},
   "outputs": [],
   "source": [
    "# Приведение текста к нижнему регистру и удаление специальных символов\n",
    "text = text.lower()\n",
    "spec_chars = string.punctuation + '\\n\\xa0«»\\t—…'\n",
    "for char in spec_chars:\n",
    "    text = text.replace(char, ' ')\n",
    "text = ' '.join(text.split())"
   ]
  },
  {
   "cell_type": "code",
   "execution_count": 26,
   "id": "10cfcefd",
   "metadata": {},
   "outputs": [],
   "source": [
    "# Фильтрация стоп-слов из текста\n",
    "stopwords = set([\n",
    "    \"в\", \"к\", \"у\", \"о\", \"от\", \"при\", \"из\", \"без\", \"через\", \"над\", \"на\", \"с\", \"до\", \"тоже\", \"также\", \n",
    "    \"и\", \"да\", \"но\", \"зато\", \"только\", \"либо\", \"что\", \"когда\", \"как\", \"пока\", \"чтобы\", \"так как\", \n",
    "    \"потому что\", \"хотя\", \"если\", \"раз\", \"словно\", \"точно\", \"несмотря на то что\", \"да\", \"так\", \"точно\", \n",
    "    \"ну да\", \"не\", \"ни\", \"ли\", \"разве\", \"неужели\", \"а\", \"что ли\", \"как\", \"будто\", \"словно\", \"точно\", \n",
    "    \"как будто\", \"вроде\", \"как бы\", \"даже\", \"и\", \"ни\", \"же\", \"ведь\", \"уж\", \"всё\", \"всё-таки\", \"просто\", \n",
    "    \"прямо\", \"вот\", \"вон\", \"это\", \"именно\", \"как раз\", \"подлинно\", \"ровно\", \"лишь\", \"только\", \"хоть\", \n",
    "    \"всего\", \"исключительно\", \"что за\", \"то-то\", \"как\", \"ну и\", \"ведь\", \"вряд ли\", \"едва ли\", \"по\", \"для\", \n",
    "    \"их\", \"уже\", \"за\", \"то\", \"бы\", \"чем\", \"тем\", \"во\", \"об\", \"или\", \"со\", \"кто\"\n",
    "]) # список стоп-слов\n",
    "words = text.split()\n",
    "filtered_text = ' '.join(word for word in words if word not in stopwords)"
   ]
  },
  {
   "cell_type": "code",
   "execution_count": 27,
   "id": "17f1fe67",
   "metadata": {},
   "outputs": [],
   "source": [
    "# Токенизация фильтрованного текста и подсчет частоты слов\n",
    "text_tokens = word_tokenize(filtered_text)\n",
    "fdist = FreqDist(text_tokens)\n",
    "fdist_dict = dict(fdist)"
   ]
  },
  {
   "cell_type": "code",
   "execution_count": 28,
   "id": "75b5e686",
   "metadata": {},
   "outputs": [],
   "source": [
    "# Создание DataFrame с двумя столбцами: \"Слово\" и \"Частота\"\n",
    "df = pd.DataFrame(list(fdist_dict.items()), columns=['Слово', 'Частота'])"
   ]
  },
  {
   "cell_type": "code",
   "execution_count": 29,
   "id": "33199f04",
   "metadata": {},
   "outputs": [
    {
     "name": "stdout",
     "output_type": "stream",
     "text": [
      "Файл сохранен как 'xlsx\\2023_путин.xlsx'.\n"
     ]
    }
   ],
   "source": [
    "# Подготовка к сохранению DataFrame в Excel файл\n",
    "output_directory = 'xlsx'\n",
    "file_name = '2023_путин.xlsx'\n",
    "output_path = os.path.join(output_directory, file_name)\n",
    "if not os.path.exists(output_directory):\n",
    "    os.makedirs(output_directory)\n",
    "df.to_excel(output_path, index=False)\n",
    "print(f\"Файл сохранен как '{output_path}'.\")"
   ]
  },
  {
   "cell_type": "code",
   "execution_count": 30,
   "id": "0b092898",
   "metadata": {},
   "outputs": [],
   "source": [
    "# Лемматизация текста с помощью spaCy\n",
    "nlp = spacy.load('ru_core_news_sm')\n",
    "def lemmatize_text_with_spacy(text):\n",
    "    doc = nlp(text)\n",
    "    return [token.lemma_ for token in doc]\n",
    "lemmatized_text = lemmatize_text_with_spacy(' '.join(text_tokens))"
   ]
  },
  {
   "cell_type": "code",
   "execution_count": 31,
   "id": "04983d48",
   "metadata": {},
   "outputs": [],
   "source": [
    "# Подсчет частоты лемматизированных слов\n",
    "fdist_lemmatized = FreqDist(lemmatized_text)"
   ]
  },
  {
   "cell_type": "code",
   "execution_count": 32,
   "id": "1cd7919e",
   "metadata": {},
   "outputs": [],
   "source": [
    "# Создание DataFrame с лемматизированными словами и их частотой\n",
    "df_lemmatized = pd.DataFrame(list(fdist_lemmatized.items()), columns=['Лемма', 'Частота'])"
   ]
  },
  {
   "cell_type": "code",
   "execution_count": 33,
   "id": "dea8784b",
   "metadata": {},
   "outputs": [
    {
     "name": "stdout",
     "output_type": "stream",
     "text": [
      "Файл сохранен как 'xlsx\\2023_путин_корни.xlsx'.\n"
     ]
    }
   ],
   "source": [
    "# Подготовка к сохранению лемматизированного DataFrame в Excel\n",
    "original_file_name = '2023_путин'  # Название исходного файла\n",
    "new_file_name = f\"{original_file_name}_корни.xlsx\"\n",
    "output_path = os.path.join(output_directory, new_file_name)\n",
    "if not os.path.exists(output_directory):\n",
    "    os.makedirs(output_directory)\n",
    "df_lemmatized.to_excel(output_path, index=False)\n",
    "print(f\"Файл сохранен как '{output_path}'.\")"
   ]
  },
  {
   "cell_type": "code",
   "execution_count": null,
   "id": "bde5b5c1",
   "metadata": {},
   "outputs": [],
   "source": []
  }
 ],
 "metadata": {
  "kernelspec": {
   "display_name": "Python 3 (ipykernel)",
   "language": "python",
   "name": "python3"
  },
  "language_info": {
   "codemirror_mode": {
    "name": "ipython",
    "version": 3
   },
   "file_extension": ".py",
   "mimetype": "text/x-python",
   "name": "python",
   "nbconvert_exporter": "python",
   "pygments_lexer": "ipython3",
   "version": "3.11.5"
  }
 },
 "nbformat": 4,
 "nbformat_minor": 5
}
